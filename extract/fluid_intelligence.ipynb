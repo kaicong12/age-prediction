{
 "cells": [
  {
   "cell_type": "code",
   "execution_count": 1,
   "metadata": {},
   "outputs": [],
   "source": [
    "import pandas as pd\n",
    "import numpy as np\n",
    "\n",
    "# disable warnings\n",
    "import warnings\n",
    "warnings.filterwarnings('ignore')\n",
    "\n",
    "csv_file = '../ukb52305.csv'\n",
    "data = pd.read_csv(csv_file, nrows=100)"
   ]
  },
  {
   "cell_type": "markdown",
   "metadata": {},
   "source": [
    "# Irrelevant Variables"
   ]
  },
  {
   "cell_type": "code",
   "execution_count": 2,
   "metadata": {},
   "outputs": [],
   "source": [
    "# 20242 -> Fluid intelligence completion status\n",
    "# 20135 -> When fluid intelligence test completed"
   ]
  },
  {
   "cell_type": "markdown",
   "metadata": {},
   "source": [
    "# Individual FI tests"
   ]
  },
  {
   "cell_type": "code",
   "execution_count": 3,
   "metadata": {},
   "outputs": [],
   "source": [
    "# 20165 -> Add the following numbers together: 1 2 3 4 5 - is the answer\n",
    "# 20167 -> Which number is the largest: Asked to choose from 642, 308, 987, 714 and 253.\n",
    "# 20169 -> \"Bud is to Flower as Child is to?\": Offered choice from Grow, Develop, Improve, Adult and Old.\n",
    "# 20171 -> \"11 12 13 14 15 16 17 18 Divide the sixth number to the right of twelve by three. Is the answer?\": 5, 6, 7, or 8\n",
    "# 20173 -> \"If Truda's mother's brother is Tim's sister's father, what relation is Truda to Tim?\": Aunt, Sister, Niece, Cousin, No-relation\n",
    "# 20175 -> \"If sixty is more than half of seventy-five, multiply twenty-three by three. If not subtract 15 from eighty-five. Is the answer?\": 68, 69, 70, 71, 72\n",
    "# 20177 -> \"Stop means the same as?\": Pause, Close, Cease, Break or Rest\n",
    "# 20179 -> \"If David is twenty-one and Owen is nineteen and Daniel is nine years younger than David, what is half their combined age?\": 25, 26, 27, 28 or 29\n",
    "# 20181 -> \"Age is to Years as Height is to?\": Long, Deep, Top, Metres or Tall\n",
    "# 20183 -> \"150 ... 137 ... 125 ... 114 ... 104 ... What comes next?\": 92, 93, 94, 95 or 96\n",
    "# 20185 -> \"Relaxed means the opposite of?\": Calm, Anxious, Cool, Worried, Tense\n",
    "# 20189 -> \"If some flinks are plinks and some plinks are stinks then some flinks are definitely stinks?\": True, False, Neither-true-nor-false\n",
    "# 20193 -> \"If 'Anne' is thirty-four and 'John' is forty-seven, what number is 'that'?\": 49,50,51,52,53"
   ]
  },
  {
   "cell_type": "markdown",
   "metadata": {},
   "source": [
    "# Overall FI score"
   ]
  },
  {
   "cell_type": "code",
   "execution_count": 4,
   "metadata": {},
   "outputs": [],
   "source": [
    "# 20191:\n",
    "# This is a simple unweighted sum of the number of correct answers given to the 13 fluid intelligence questions. \n",
    "# Participants who did not answer all of the questions within the allotted 2 minute limit \n",
    "# are scored as zero for each of the unattempted questions."
   ]
  },
  {
   "cell_type": "code",
   "execution_count": 5,
   "metadata": {},
   "outputs": [
    {
     "name": "stdout",
     "output_type": "stream",
     "text": [
      "Found 2 columns to be retrieved: ['eid', '20191-0.0']\n"
     ]
    }
   ],
   "source": [
    "cols = ['20191']\n",
    "to_retrieve = ['eid']\n",
    "for col in cols:\n",
    "    for data_col in data.columns:\n",
    "        if col in data_col:\n",
    "            to_retrieve.append(data_col)\n",
    "\n",
    "print(f\"Found {len(to_retrieve)} columns to be retrieved: {to_retrieve}\")\n",
    "\n",
    "fluid_intelligence_df = pd.read_csv(csv_file, usecols=to_retrieve)"
   ]
  },
  {
   "cell_type": "code",
   "execution_count": 6,
   "metadata": {},
   "outputs": [],
   "source": [
    "fluid_intelligence_dzf = fluid_intelligence_df.dropna()"
   ]
  },
  {
   "cell_type": "code",
   "execution_count": 7,
   "metadata": {},
   "outputs": [],
   "source": [
    "fluid_intelligence_df.to_csv('../data/fluid_intelligence.csv', index=False)"
   ]
  },
  {
   "cell_type": "code",
   "execution_count": null,
   "metadata": {},
   "outputs": [],
   "source": []
  }
 ],
 "metadata": {
  "kernelspec": {
   "display_name": "Python 3.10.6 64-bit",
   "language": "python",
   "name": "python3"
  },
  "language_info": {
   "codemirror_mode": {
    "name": "ipython",
    "version": 3
   },
   "file_extension": ".py",
   "mimetype": "text/x-python",
   "name": "python",
   "nbconvert_exporter": "python",
   "pygments_lexer": "ipython3",
   "version": "3.10.8"
  },
  "orig_nbformat": 4,
  "vscode": {
   "interpreter": {
    "hash": "b0fa6594d8f4cbf19f97940f81e996739fb7646882a419484c72d19e05852a7e"
   }
  }
 },
 "nbformat": 4,
 "nbformat_minor": 2
}
