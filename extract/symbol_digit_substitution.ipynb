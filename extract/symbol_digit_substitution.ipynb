{
 "cells": [
  {
   "cell_type": "code",
   "execution_count": 1,
   "metadata": {},
   "outputs": [],
   "source": [
    "import pandas as pd\n",
    "import numpy as np\n",
    "\n",
    "# disable warnings\n",
    "import warnings\n",
    "warnings.filterwarnings('ignore')\n",
    "\n",
    "csv_file = '../ukb52305.csv'\n",
    "data = pd.read_csv(csv_file, nrows=100)"
   ]
  },
  {
   "cell_type": "code",
   "execution_count": 2,
   "metadata": {},
   "outputs": [],
   "source": [
    "# 20196 -> First code array presented, consists of 33 different combinations of array, encoded using \"category 500\"\n",
    "# 20198 -> Test Array presented, 33 different combinations of array, encoded using \"category 500\"\n",
    "# 20200 -> Values wanted\n",
    "# 20229 -> Values entered, must match 20200 to be considered correct\n",
    "# 20230 -> Time between participants are shown a value and them entering their value\n",
    "# 20245 is symbol digit test completion status\n",
    "# 20137 is when symbol digit substitution test completed\n",
    "symbol_digit_substitution = [\n",
    "    '20159-0.0', # Number of symbol digit matches made correctly\n",
    "    '20195-0.0'  # Number of symbol digit matches attempted\n",
    "]"
   ]
  },
  {
   "cell_type": "code",
   "execution_count": 3,
   "metadata": {},
   "outputs": [
    {
     "name": "stdout",
     "output_type": "stream",
     "text": [
      "Found 3 columns to be retrieved: ['eid', '20159-0.0', '20195-0.0']\n"
     ]
    }
   ],
   "source": [
    "# 20159 =  Number of symbol digit matches made correctly\n",
    "# 20195 = Number of symbol digit matches attempted\n",
    "\n",
    "cols = ['20159', '20195']\n",
    "to_retrieve = ['eid']\n",
    "for col in cols:\n",
    "    for data_col in data.columns:\n",
    "        if col in data_col:\n",
    "            to_retrieve.append(data_col)\n",
    "\n",
    "print(f\"Found {len(to_retrieve)} columns to be retrieved: {to_retrieve}\")\n",
    "\n",
    "symbol_df = pd.read_csv(csv_file, usecols=to_retrieve)"
   ]
  },
  {
   "cell_type": "code",
   "execution_count": 4,
   "metadata": {},
   "outputs": [],
   "source": [
    "# drop rows with both columns missing (thresh = 2)\n",
    "# suitable for data imputation\n",
    "\n",
    "symbol_df = symbol_df.dropna(thresh=2)"
   ]
  },
  {
   "cell_type": "code",
   "execution_count": 5,
   "metadata": {},
   "outputs": [],
   "source": [
    "symbol_df.to_csv('../data/symbol_digit_substitution.csv', index=False)"
   ]
  },
  {
   "cell_type": "code",
   "execution_count": null,
   "metadata": {},
   "outputs": [],
   "source": []
  }
 ],
 "metadata": {
  "kernelspec": {
   "display_name": "Python 3.10.6 64-bit",
   "language": "python",
   "name": "python3"
  },
  "language_info": {
   "codemirror_mode": {
    "name": "ipython",
    "version": 3
   },
   "file_extension": ".py",
   "mimetype": "text/x-python",
   "name": "python",
   "nbconvert_exporter": "python",
   "pygments_lexer": "ipython3",
   "version": "3.10.8"
  },
  "orig_nbformat": 4,
  "vscode": {
   "interpreter": {
    "hash": "b0fa6594d8f4cbf19f97940f81e996739fb7646882a419484c72d19e05852a7e"
   }
  }
 },
 "nbformat": 4,
 "nbformat_minor": 2
}
