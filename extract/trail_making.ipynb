{
 "cells": [
  {
   "cell_type": "code",
   "execution_count": 1,
   "metadata": {},
   "outputs": [],
   "source": [
    "import pandas as pd\n",
    "import numpy as np\n",
    "\n",
    "# disable warnings\n",
    "import warnings\n",
    "warnings.filterwarnings('ignore')\n",
    "\n",
    "csv_file = '../ukb52305.csv'\n",
    "data = pd.read_csv(csv_file, nrows=100)"
   ]
  },
  {
   "cell_type": "code",
   "execution_count": 2,
   "metadata": {},
   "outputs": [],
   "source": [
    "# 20149 -> Interval between previous point and current one in numeric path, array with length 25\n",
    "# 20155 -> Interval between previous point and current one in alphanumeric path, array with length 25\n",
    "# 20147 -> \tErrors before selecting correct item in numeric path (trail #1), array with length 25\n",
    "# 20148 -> \tErrors before selecting correct item in alphanumeric path (trail #2), array with length 25\n",
    "# are also available, they are in the form of an array with length 24\n",
    "# 20246 -> trail making completion status\n",
    "# 20136 -> when trail making test completed\n",
    "trail_making = [\n",
    "    '20156-0.0', # sum of 20149\n",
    "    '20157-0.0', # sum of 20155\n",
    "    '20247-0.0', # total error traversing numerical path, only participants with error > 0 has value\n",
    "    '20248-0.0'  # total error traversing alphanumeric path, only participants with error > 0 has value\n",
    "]"
   ]
  },
  {
   "cell_type": "code",
   "execution_count": 3,
   "metadata": {},
   "outputs": [
    {
     "name": "stdout",
     "output_type": "stream",
     "text": [
      "Found 5 columns to be retrieved: ['eid', '20156-0.0', '20157-0.0', '20247-0.0', '20248-0.0']\n"
     ]
    }
   ],
   "source": [
    "cols = ['20156', '20157', '20247', '20248']\n",
    "to_retrieve = ['eid']\n",
    "for col in cols:\n",
    "    for data_col in data.columns:\n",
    "        if col in data_col:\n",
    "            to_retrieve.append(data_col)\n",
    "\n",
    "print(f\"Found {len(to_retrieve)} columns to be retrieved: {to_retrieve}\")\n",
    "\n",
    "trail_making_df = pd.read_csv(csv_file, usecols=to_retrieve)"
   ]
  },
  {
   "cell_type": "code",
   "execution_count": 4,
   "metadata": {},
   "outputs": [],
   "source": [
    "# drop those who did not take the trail making test \n",
    "# only keep those with both 20156 and 20157\n",
    "data = trail_making_df[~(trail_making_df['20156-0.0'].isnull() & trail_making_df['20157-0.0'].isnull())]\n",
    "\n",
    "# N.A errors mean the person made 0 mistakes during the test\n",
    "data = data.fillna(0)"
   ]
  },
  {
   "cell_type": "code",
   "execution_count": 5,
   "metadata": {},
   "outputs": [
    {
     "data": {
      "text/html": [
       "<div>\n",
       "<style scoped>\n",
       "    .dataframe tbody tr th:only-of-type {\n",
       "        vertical-align: middle;\n",
       "    }\n",
       "\n",
       "    .dataframe tbody tr th {\n",
       "        vertical-align: top;\n",
       "    }\n",
       "\n",
       "    .dataframe thead th {\n",
       "        text-align: right;\n",
       "    }\n",
       "</style>\n",
       "<table border=\"1\" class=\"dataframe\">\n",
       "  <thead>\n",
       "    <tr style=\"text-align: right;\">\n",
       "      <th></th>\n",
       "      <th>eid</th>\n",
       "      <th>20156-0.0</th>\n",
       "      <th>20157-0.0</th>\n",
       "      <th>20247-0.0</th>\n",
       "      <th>20248-0.0</th>\n",
       "    </tr>\n",
       "  </thead>\n",
       "  <tbody>\n",
       "    <tr>\n",
       "      <th>9</th>\n",
       "      <td>1000085</td>\n",
       "      <td>43.202</td>\n",
       "      <td>64.591</td>\n",
       "      <td>0.0</td>\n",
       "      <td>0.0</td>\n",
       "    </tr>\n",
       "    <tr>\n",
       "      <th>15</th>\n",
       "      <td>1000158</td>\n",
       "      <td>48.845</td>\n",
       "      <td>96.175</td>\n",
       "      <td>3.0</td>\n",
       "      <td>5.0</td>\n",
       "    </tr>\n",
       "    <tr>\n",
       "      <th>25</th>\n",
       "      <td>1000251</td>\n",
       "      <td>23.656</td>\n",
       "      <td>36.673</td>\n",
       "      <td>0.0</td>\n",
       "      <td>0.0</td>\n",
       "    </tr>\n",
       "    <tr>\n",
       "      <th>27</th>\n",
       "      <td>1000279</td>\n",
       "      <td>25.344</td>\n",
       "      <td>51.384</td>\n",
       "      <td>0.0</td>\n",
       "      <td>1.0</td>\n",
       "    </tr>\n",
       "    <tr>\n",
       "      <th>29</th>\n",
       "      <td>1000295</td>\n",
       "      <td>33.183</td>\n",
       "      <td>52.936</td>\n",
       "      <td>0.0</td>\n",
       "      <td>0.0</td>\n",
       "    </tr>\n",
       "    <tr>\n",
       "      <th>...</th>\n",
       "      <td>...</td>\n",
       "      <td>...</td>\n",
       "      <td>...</td>\n",
       "      <td>...</td>\n",
       "      <td>...</td>\n",
       "    </tr>\n",
       "    <tr>\n",
       "      <th>502376</th>\n",
       "      <td>6024594</td>\n",
       "      <td>48.132</td>\n",
       "      <td>59.984</td>\n",
       "      <td>3.0</td>\n",
       "      <td>0.0</td>\n",
       "    </tr>\n",
       "    <tr>\n",
       "      <th>502385</th>\n",
       "      <td>6024683</td>\n",
       "      <td>53.382</td>\n",
       "      <td>57.337</td>\n",
       "      <td>5.0</td>\n",
       "      <td>0.0</td>\n",
       "    </tr>\n",
       "    <tr>\n",
       "      <th>502395</th>\n",
       "      <td>6024781</td>\n",
       "      <td>24.867</td>\n",
       "      <td>44.819</td>\n",
       "      <td>0.0</td>\n",
       "      <td>0.0</td>\n",
       "    </tr>\n",
       "    <tr>\n",
       "      <th>502399</th>\n",
       "      <td>6024822</td>\n",
       "      <td>47.510</td>\n",
       "      <td>71.331</td>\n",
       "      <td>0.0</td>\n",
       "      <td>0.0</td>\n",
       "    </tr>\n",
       "    <tr>\n",
       "      <th>502410</th>\n",
       "      <td>6024933</td>\n",
       "      <td>35.039</td>\n",
       "      <td>62.704</td>\n",
       "      <td>0.0</td>\n",
       "      <td>0.0</td>\n",
       "    </tr>\n",
       "  </tbody>\n",
       "</table>\n",
       "<p>104014 rows × 5 columns</p>\n",
       "</div>"
      ],
      "text/plain": [
       "            eid  20156-0.0  20157-0.0  20247-0.0  20248-0.0\n",
       "9       1000085     43.202     64.591        0.0        0.0\n",
       "15      1000158     48.845     96.175        3.0        5.0\n",
       "25      1000251     23.656     36.673        0.0        0.0\n",
       "27      1000279     25.344     51.384        0.0        1.0\n",
       "29      1000295     33.183     52.936        0.0        0.0\n",
       "...         ...        ...        ...        ...        ...\n",
       "502376  6024594     48.132     59.984        3.0        0.0\n",
       "502385  6024683     53.382     57.337        5.0        0.0\n",
       "502395  6024781     24.867     44.819        0.0        0.0\n",
       "502399  6024822     47.510     71.331        0.0        0.0\n",
       "502410  6024933     35.039     62.704        0.0        0.0\n",
       "\n",
       "[104014 rows x 5 columns]"
      ]
     },
     "execution_count": 5,
     "metadata": {},
     "output_type": "execute_result"
    }
   ],
   "source": [
    "data"
   ]
  },
  {
   "cell_type": "code",
   "execution_count": 6,
   "metadata": {},
   "outputs": [],
   "source": [
    "data.to_csv('../data/trail_making.csv', index=False)"
   ]
  },
  {
   "cell_type": "code",
   "execution_count": null,
   "metadata": {},
   "outputs": [],
   "source": []
  }
 ],
 "metadata": {
  "kernelspec": {
   "display_name": "Python 3.10.6 64-bit",
   "language": "python",
   "name": "python3"
  },
  "language_info": {
   "codemirror_mode": {
    "name": "ipython",
    "version": 3
   },
   "file_extension": ".py",
   "mimetype": "text/x-python",
   "name": "python",
   "nbconvert_exporter": "python",
   "pygments_lexer": "ipython3",
   "version": "3.10.8"
  },
  "orig_nbformat": 4,
  "vscode": {
   "interpreter": {
    "hash": "b0fa6594d8f4cbf19f97940f81e996739fb7646882a419484c72d19e05852a7e"
   }
  }
 },
 "nbformat": 4,
 "nbformat_minor": 2
}
