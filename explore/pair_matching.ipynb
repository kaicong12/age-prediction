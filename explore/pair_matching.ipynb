{
 "cells": [
  {
   "cell_type": "code",
   "execution_count": 1,
   "metadata": {},
   "outputs": [],
   "source": [
    "import json\n",
    "import pandas as pd\n",
    "\n",
    "NAME_FILE = '../name_mapping.json'\n",
    "f = open(NAME_FILE)\n",
    "name_data = json.load(f)"
   ]
  },
  {
   "cell_type": "code",
   "execution_count": 2,
   "metadata": {},
   "outputs": [],
   "source": [
    "PAIR_MATCHING_CSV = '../data/pair_matching.csv'\n",
    "\n",
    "data = pd.read_csv(PAIR_MATCHING_CSV)"
   ]
  },
  {
   "cell_type": "code",
   "execution_count": 3,
   "metadata": {},
   "outputs": [
    {
     "data": {
      "text/html": [
       "<div>\n",
       "<style scoped>\n",
       "    .dataframe tbody tr th:only-of-type {\n",
       "        vertical-align: middle;\n",
       "    }\n",
       "\n",
       "    .dataframe tbody tr th {\n",
       "        vertical-align: top;\n",
       "    }\n",
       "\n",
       "    .dataframe thead th {\n",
       "        text-align: right;\n",
       "    }\n",
       "</style>\n",
       "<table border=\"1\" class=\"dataframe\">\n",
       "  <thead>\n",
       "    <tr style=\"text-align: right;\">\n",
       "      <th></th>\n",
       "      <th>eid</th>\n",
       "      <th>mean_20131</th>\n",
       "      <th>mean_20132</th>\n",
       "      <th>mean_20133</th>\n",
       "    </tr>\n",
       "  </thead>\n",
       "  <tbody>\n",
       "    <tr>\n",
       "      <th>count</th>\n",
       "      <td>1.155160e+05</td>\n",
       "      <td>115516.000000</td>\n",
       "      <td>115516.000000</td>\n",
       "      <td>115516.000000</td>\n",
       "    </tr>\n",
       "    <tr>\n",
       "      <th>mean</th>\n",
       "      <td>3.505471e+06</td>\n",
       "      <td>4.631283</td>\n",
       "      <td>2.788207</td>\n",
       "      <td>23487.141774</td>\n",
       "    </tr>\n",
       "    <tr>\n",
       "      <th>std</th>\n",
       "      <td>1.450371e+06</td>\n",
       "      <td>0.467183</td>\n",
       "      <td>1.670499</td>\n",
       "      <td>10132.447564</td>\n",
       "    </tr>\n",
       "    <tr>\n",
       "      <th>min</th>\n",
       "      <td>1.000085e+06</td>\n",
       "      <td>1.500000</td>\n",
       "      <td>0.000000</td>\n",
       "      <td>1755.500000</td>\n",
       "    </tr>\n",
       "    <tr>\n",
       "      <th>25%</th>\n",
       "      <td>2.252365e+06</td>\n",
       "      <td>4.500000</td>\n",
       "      <td>1.500000</td>\n",
       "      <td>16394.250000</td>\n",
       "    </tr>\n",
       "    <tr>\n",
       "      <th>50%</th>\n",
       "      <td>3.499489e+06</td>\n",
       "      <td>4.500000</td>\n",
       "      <td>2.500000</td>\n",
       "      <td>21349.000000</td>\n",
       "    </tr>\n",
       "    <tr>\n",
       "      <th>75%</th>\n",
       "      <td>4.762362e+06</td>\n",
       "      <td>4.500000</td>\n",
       "      <td>3.500000</td>\n",
       "      <td>28144.500000</td>\n",
       "    </tr>\n",
       "    <tr>\n",
       "      <th>max</th>\n",
       "      <td>6.024933e+06</td>\n",
       "      <td>5.666667</td>\n",
       "      <td>23.000000</td>\n",
       "      <td>94984.000000</td>\n",
       "    </tr>\n",
       "  </tbody>\n",
       "</table>\n",
       "</div>"
      ],
      "text/plain": [
       "                eid     mean_20131     mean_20132     mean_20133\n",
       "count  1.155160e+05  115516.000000  115516.000000  115516.000000\n",
       "mean   3.505471e+06       4.631283       2.788207   23487.141774\n",
       "std    1.450371e+06       0.467183       1.670499   10132.447564\n",
       "min    1.000085e+06       1.500000       0.000000    1755.500000\n",
       "25%    2.252365e+06       4.500000       1.500000   16394.250000\n",
       "50%    3.499489e+06       4.500000       2.500000   21349.000000\n",
       "75%    4.762362e+06       4.500000       3.500000   28144.500000\n",
       "max    6.024933e+06       5.666667      23.000000   94984.000000"
      ]
     },
     "execution_count": 3,
     "metadata": {},
     "output_type": "execute_result"
    }
   ],
   "source": [
    "data.describe()"
   ]
  },
  {
   "cell_type": "code",
   "execution_count": 4,
   "metadata": {},
   "outputs": [
    {
     "data": {
      "text/plain": [
       "73281    1.500000\n",
       "42661    1.500000\n",
       "21687    1.500000\n",
       "67685    1.500000\n",
       "94654    1.500000\n",
       "           ...   \n",
       "16363    5.666667\n",
       "68065    5.666667\n",
       "96856    5.666667\n",
       "96849    5.666667\n",
       "53967    5.666667\n",
       "Name: mean_20131, Length: 115516, dtype: float64"
      ]
     },
     "execution_count": 4,
     "metadata": {},
     "output_type": "execute_result"
    }
   ],
   "source": [
    "# number of correct matches\n",
    "data['mean_20131'].sort_values()"
   ]
  },
  {
   "cell_type": "code",
   "execution_count": 5,
   "metadata": {},
   "outputs": [
    {
     "data": {
      "text/plain": [
       "88917      0.0\n",
       "3436       0.0\n",
       "69207      0.0\n",
       "109093     0.0\n",
       "9865       0.0\n",
       "          ... \n",
       "24114     22.5\n",
       "85144     22.5\n",
       "47775     22.5\n",
       "85951     23.0\n",
       "14829     23.0\n",
       "Name: mean_20132, Length: 115516, dtype: float64"
      ]
     },
     "execution_count": 5,
     "metadata": {},
     "output_type": "execute_result"
    }
   ],
   "source": [
    "# number of incorrect matches\n",
    "data['mean_20132'].sort_values()"
   ]
  },
  {
   "cell_type": "code",
   "execution_count": 6,
   "metadata": {},
   "outputs": [
    {
     "data": {
      "text/html": [
       "<div>\n",
       "<style scoped>\n",
       "    .dataframe tbody tr th:only-of-type {\n",
       "        vertical-align: middle;\n",
       "    }\n",
       "\n",
       "    .dataframe tbody tr th {\n",
       "        vertical-align: top;\n",
       "    }\n",
       "\n",
       "    .dataframe thead th {\n",
       "        text-align: right;\n",
       "    }\n",
       "</style>\n",
       "<table border=\"1\" class=\"dataframe\">\n",
       "  <thead>\n",
       "    <tr style=\"text-align: right;\">\n",
       "      <th></th>\n",
       "      <th>subject_id</th>\n",
       "      <th>Mean Correct Pair</th>\n",
       "      <th>Mean Incorrect Pair</th>\n",
       "      <th>Mean Completion Time</th>\n",
       "    </tr>\n",
       "  </thead>\n",
       "  <tbody>\n",
       "    <tr>\n",
       "      <th>0</th>\n",
       "      <td>1000085</td>\n",
       "      <td>4.500000</td>\n",
       "      <td>1.000000</td>\n",
       "      <td>22838.0</td>\n",
       "    </tr>\n",
       "    <tr>\n",
       "      <th>1</th>\n",
       "      <td>1000158</td>\n",
       "      <td>4.500000</td>\n",
       "      <td>5.000000</td>\n",
       "      <td>35523.0</td>\n",
       "    </tr>\n",
       "    <tr>\n",
       "      <th>2</th>\n",
       "      <td>1000193</td>\n",
       "      <td>5.666667</td>\n",
       "      <td>4.000000</td>\n",
       "      <td>46227.0</td>\n",
       "    </tr>\n",
       "    <tr>\n",
       "      <th>3</th>\n",
       "      <td>1000251</td>\n",
       "      <td>4.500000</td>\n",
       "      <td>4.000000</td>\n",
       "      <td>14591.0</td>\n",
       "    </tr>\n",
       "    <tr>\n",
       "      <th>4</th>\n",
       "      <td>1000279</td>\n",
       "      <td>5.666667</td>\n",
       "      <td>3.333333</td>\n",
       "      <td>21993.0</td>\n",
       "    </tr>\n",
       "    <tr>\n",
       "      <th>...</th>\n",
       "      <td>...</td>\n",
       "      <td>...</td>\n",
       "      <td>...</td>\n",
       "      <td>...</td>\n",
       "    </tr>\n",
       "    <tr>\n",
       "      <th>115511</th>\n",
       "      <td>6024683</td>\n",
       "      <td>4.500000</td>\n",
       "      <td>2.500000</td>\n",
       "      <td>21135.0</td>\n",
       "    </tr>\n",
       "    <tr>\n",
       "      <th>115512</th>\n",
       "      <td>6024769</td>\n",
       "      <td>4.500000</td>\n",
       "      <td>5.000000</td>\n",
       "      <td>33188.5</td>\n",
       "    </tr>\n",
       "    <tr>\n",
       "      <th>115513</th>\n",
       "      <td>6024781</td>\n",
       "      <td>4.500000</td>\n",
       "      <td>1.500000</td>\n",
       "      <td>14452.0</td>\n",
       "    </tr>\n",
       "    <tr>\n",
       "      <th>115514</th>\n",
       "      <td>6024822</td>\n",
       "      <td>4.500000</td>\n",
       "      <td>3.000000</td>\n",
       "      <td>23481.0</td>\n",
       "    </tr>\n",
       "    <tr>\n",
       "      <th>115515</th>\n",
       "      <td>6024933</td>\n",
       "      <td>4.500000</td>\n",
       "      <td>3.500000</td>\n",
       "      <td>19743.5</td>\n",
       "    </tr>\n",
       "  </tbody>\n",
       "</table>\n",
       "<p>115516 rows × 4 columns</p>\n",
       "</div>"
      ],
      "text/plain": [
       "        subject_id  Mean Correct Pair  Mean Incorrect Pair  \\\n",
       "0          1000085           4.500000             1.000000   \n",
       "1          1000158           4.500000             5.000000   \n",
       "2          1000193           5.666667             4.000000   \n",
       "3          1000251           4.500000             4.000000   \n",
       "4          1000279           5.666667             3.333333   \n",
       "...            ...                ...                  ...   \n",
       "115511     6024683           4.500000             2.500000   \n",
       "115512     6024769           4.500000             5.000000   \n",
       "115513     6024781           4.500000             1.500000   \n",
       "115514     6024822           4.500000             3.000000   \n",
       "115515     6024933           4.500000             3.500000   \n",
       "\n",
       "        Mean Completion Time  \n",
       "0                    22838.0  \n",
       "1                    35523.0  \n",
       "2                    46227.0  \n",
       "3                    14591.0  \n",
       "4                    21993.0  \n",
       "...                      ...  \n",
       "115511               21135.0  \n",
       "115512               33188.5  \n",
       "115513               14452.0  \n",
       "115514               23481.0  \n",
       "115515               19743.5  \n",
       "\n",
       "[115516 rows x 4 columns]"
      ]
     },
     "execution_count": 6,
     "metadata": {},
     "output_type": "execute_result"
    }
   ],
   "source": [
    "renamed_pm = data.rename(columns=name_data)\n",
    "renamed_pm"
   ]
  },
  {
   "cell_type": "code",
   "execution_count": 7,
   "metadata": {},
   "outputs": [
    {
     "data": {
      "text/plain": [
       "<AxesSubplot:>"
      ]
     },
     "execution_count": 7,
     "metadata": {},
     "output_type": "execute_result"
    },
    {
     "data": {
      "image/png": "[encoded data removed]",
      "text/plain": [
       "<Figure size 640x480 with 2 Axes>"
      ]
     },
     "metadata": {},
     "output_type": "display_data"
    }
   ],
   "source": [
    "import seaborn as sns\n",
    "\n",
    "corr_matrix = renamed_pm[renamed_pm.columns[1:]].corr()\n",
    "sns.heatmap(corr_matrix, annot=True)"
   ]
  },
  {
   "cell_type": "code",
   "execution_count": 8,
   "metadata": {},
   "outputs": [],
   "source": [
    "# renamed_pm.to_csv('../processed_data/pair_matching.csv', index=False)"
   ]
  },
  {
   "cell_type": "markdown",
   "metadata": {},
   "source": [
    "# Calculate Error Rate"
   ]
  },
  {
   "cell_type": "code",
   "execution_count": null,
   "metadata": {},
   "outputs": [],
   "source": []
  }
 ],
 "metadata": {
  "kernelspec": {
   "display_name": "Python 3.10.6 64-bit",
   "language": "python",
   "name": "python3"
  },
  "language_info": {
   "codemirror_mode": {
    "name": "ipython",
    "version": 3
   },
   "file_extension": ".py",
   "mimetype": "text/x-python",
   "name": "python",
   "nbconvert_exporter": "python",
   "pygments_lexer": "ipython3",
   "version": "3.10.8"
  },
  "orig_nbformat": 4,
  "vscode": {
   "interpreter": {
    "hash": "b0fa6594d8f4cbf19f97940f81e996739fb7646882a419484c72d19e05852a7e"
   }
  }
 },
 "nbformat": 4,
 "nbformat_minor": 2
}
