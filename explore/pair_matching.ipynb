{
 "cells": [
  {
   "cell_type": "code",
   "execution_count": 1,
   "metadata": {},
   "outputs": [],
   "source": [
    "import pandas as pd\n",
    "\n",
    "PAIR_MATCHING_CSV = '../data/pair_matching.csv'\n",
    "\n",
    "data = pd.read_csv(PAIR_MATCHING_CSV)"
   ]
  },
  {
   "cell_type": "code",
   "execution_count": 3,
   "metadata": {},
   "outputs": [
    {
     "data": {
      "text/html": [
       "<div>\n",
       "<style scoped>\n",
       "    .dataframe tbody tr th:only-of-type {\n",
       "        vertical-align: middle;\n",
       "    }\n",
       "\n",
       "    .dataframe tbody tr th {\n",
       "        vertical-align: top;\n",
       "    }\n",
       "\n",
       "    .dataframe thead th {\n",
       "        text-align: right;\n",
       "    }\n",
       "</style>\n",
       "<table border=\"1\" class=\"dataframe\">\n",
       "  <thead>\n",
       "    <tr style=\"text-align: right;\">\n",
       "      <th></th>\n",
       "      <th>eid</th>\n",
       "      <th>mean_20131</th>\n",
       "      <th>mean_20132</th>\n",
       "      <th>mean_20133</th>\n",
       "    </tr>\n",
       "  </thead>\n",
       "  <tbody>\n",
       "    <tr>\n",
       "      <th>count</th>\n",
       "      <td>1.155160e+05</td>\n",
       "      <td>115516.000000</td>\n",
       "      <td>115516.000000</td>\n",
       "      <td>115516.000000</td>\n",
       "    </tr>\n",
       "    <tr>\n",
       "      <th>mean</th>\n",
       "      <td>3.505471e+06</td>\n",
       "      <td>4.631283</td>\n",
       "      <td>2.788207</td>\n",
       "      <td>23487.141774</td>\n",
       "    </tr>\n",
       "    <tr>\n",
       "      <th>std</th>\n",
       "      <td>1.450371e+06</td>\n",
       "      <td>0.467183</td>\n",
       "      <td>1.670499</td>\n",
       "      <td>10132.447564</td>\n",
       "    </tr>\n",
       "    <tr>\n",
       "      <th>min</th>\n",
       "      <td>1.000085e+06</td>\n",
       "      <td>1.500000</td>\n",
       "      <td>0.000000</td>\n",
       "      <td>1755.500000</td>\n",
       "    </tr>\n",
       "    <tr>\n",
       "      <th>25%</th>\n",
       "      <td>2.252365e+06</td>\n",
       "      <td>4.500000</td>\n",
       "      <td>1.500000</td>\n",
       "      <td>16394.250000</td>\n",
       "    </tr>\n",
       "    <tr>\n",
       "      <th>50%</th>\n",
       "      <td>3.499489e+06</td>\n",
       "      <td>4.500000</td>\n",
       "      <td>2.500000</td>\n",
       "      <td>21349.000000</td>\n",
       "    </tr>\n",
       "    <tr>\n",
       "      <th>75%</th>\n",
       "      <td>4.762362e+06</td>\n",
       "      <td>4.500000</td>\n",
       "      <td>3.500000</td>\n",
       "      <td>28144.500000</td>\n",
       "    </tr>\n",
       "    <tr>\n",
       "      <th>max</th>\n",
       "      <td>6.024933e+06</td>\n",
       "      <td>5.666667</td>\n",
       "      <td>23.000000</td>\n",
       "      <td>94984.000000</td>\n",
       "    </tr>\n",
       "  </tbody>\n",
       "</table>\n",
       "</div>"
      ],
      "text/plain": [
       "                eid     mean_20131     mean_20132     mean_20133\n",
       "count  1.155160e+05  115516.000000  115516.000000  115516.000000\n",
       "mean   3.505471e+06       4.631283       2.788207   23487.141774\n",
       "std    1.450371e+06       0.467183       1.670499   10132.447564\n",
       "min    1.000085e+06       1.500000       0.000000    1755.500000\n",
       "25%    2.252365e+06       4.500000       1.500000   16394.250000\n",
       "50%    3.499489e+06       4.500000       2.500000   21349.000000\n",
       "75%    4.762362e+06       4.500000       3.500000   28144.500000\n",
       "max    6.024933e+06       5.666667      23.000000   94984.000000"
      ]
     },
     "execution_count": 3,
     "metadata": {},
     "output_type": "execute_result"
    }
   ],
   "source": [
    "data.describe()"
   ]
  },
  {
   "cell_type": "code",
   "execution_count": 4,
   "metadata": {},
   "outputs": [
    {
     "data": {
      "text/plain": [
       "73281    1.500000\n",
       "42661    1.500000\n",
       "21687    1.500000\n",
       "67685    1.500000\n",
       "94654    1.500000\n",
       "           ...   \n",
       "16363    5.666667\n",
       "68065    5.666667\n",
       "96856    5.666667\n",
       "96849    5.666667\n",
       "53967    5.666667\n",
       "Name: mean_20131, Length: 115516, dtype: float64"
      ]
     },
     "execution_count": 4,
     "metadata": {},
     "output_type": "execute_result"
    }
   ],
   "source": [
    "# number of correct matches\n",
    "data['mean_20131'].sort_values()"
   ]
  },
  {
   "cell_type": "code",
   "execution_count": 5,
   "metadata": {},
   "outputs": [
    {
     "data": {
      "text/plain": [
       "88917      0.0\n",
       "3436       0.0\n",
       "69207      0.0\n",
       "109093     0.0\n",
       "9865       0.0\n",
       "          ... \n",
       "24114     22.5\n",
       "85144     22.5\n",
       "47775     22.5\n",
       "85951     23.0\n",
       "14829     23.0\n",
       "Name: mean_20132, Length: 115516, dtype: float64"
      ]
     },
     "execution_count": 5,
     "metadata": {},
     "output_type": "execute_result"
    }
   ],
   "source": [
    "# number of incorrect matches\n",
    "data['mean_20132'].sort_values()"
   ]
  },
  {
   "cell_type": "markdown",
   "metadata": {},
   "source": [
    "# Calculate Error Rate"
   ]
  },
  {
   "cell_type": "code",
   "execution_count": 13,
   "metadata": {},
   "outputs": [
    {
     "data": {
      "text/plain": [
       "<AxesSubplot:>"
      ]
     },
     "execution_count": 13,
     "metadata": {},
     "output_type": "execute_result"
    },
    {
     "data": {
      "image/png": "[encoded data removed]",
      "text/plain": [
       "<Figure size 640x480 with 2 Axes>"
      ]
     },
     "metadata": {},
     "output_type": "display_data"
    }
   ],
   "source": [
    "import seaborn as sns\n",
    "\n",
    "corr_matrix = data[data.columns[1:]].corr()\n",
    "sns.heatmap(corr_matrix, annot=True)"
   ]
  },
  {
   "cell_type": "code",
   "execution_count": null,
   "metadata": {},
   "outputs": [],
   "source": []
  }
 ],
 "metadata": {
  "kernelspec": {
   "display_name": "Python 3.10.6 64-bit",
   "language": "python",
   "name": "python3"
  },
  "language_info": {
   "codemirror_mode": {
    "name": "ipython",
    "version": 3
   },
   "file_extension": ".py",
   "mimetype": "text/x-python",
   "name": "python",
   "nbconvert_exporter": "python",
   "pygments_lexer": "ipython3",
   "version": "3.10.8"
  },
  "orig_nbformat": 4,
  "vscode": {
   "interpreter": {
    "hash": "b0fa6594d8f4cbf19f97940f81e996739fb7646882a419484c72d19e05852a7e"
   }
  }
 },
 "nbformat": 4,
 "nbformat_minor": 2
}
