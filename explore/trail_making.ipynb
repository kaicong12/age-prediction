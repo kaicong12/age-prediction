{
 "cells": [
  {
   "cell_type": "code",
   "execution_count": 8,
   "metadata": {},
   "outputs": [],
   "source": [
    "import json\n",
    "import pandas as pd\n",
    "import matplotlib.pyplot as plt \n",
    "\n",
    "NAME_FILE = '../name_mapping.json'\n",
    "f = open(NAME_FILE)\n",
    "name_data = json.load(f)"
   ]
  },
  {
   "cell_type": "code",
   "execution_count": 2,
   "metadata": {},
   "outputs": [],
   "source": [
    "TRAIL_MAKING_CSV = '../data/trail_making.csv'\n",
    "\n",
    "data = pd.read_csv(TRAIL_MAKING_CSV)"
   ]
  },
  {
   "cell_type": "code",
   "execution_count": 3,
   "metadata": {},
   "outputs": [
    {
     "data": {
      "text/html": [
       "<div>\n",
       "<style scoped>\n",
       "    .dataframe tbody tr th:only-of-type {\n",
       "        vertical-align: middle;\n",
       "    }\n",
       "\n",
       "    .dataframe tbody tr th {\n",
       "        vertical-align: top;\n",
       "    }\n",
       "\n",
       "    .dataframe thead th {\n",
       "        text-align: right;\n",
       "    }\n",
       "</style>\n",
       "<table border=\"1\" class=\"dataframe\">\n",
       "  <thead>\n",
       "    <tr style=\"text-align: right;\">\n",
       "      <th></th>\n",
       "      <th>subject_id</th>\n",
       "      <th>Total time (numeric trail)</th>\n",
       "      <th>Total time (alphanumeric trail)</th>\n",
       "      <th>Total error (numeric path)</th>\n",
       "      <th>Total error (alphanumeric path)</th>\n",
       "    </tr>\n",
       "  </thead>\n",
       "  <tbody>\n",
       "    <tr>\n",
       "      <th>0</th>\n",
       "      <td>1000085</td>\n",
       "      <td>43.202</td>\n",
       "      <td>64.591</td>\n",
       "      <td>0.0</td>\n",
       "      <td>0.0</td>\n",
       "    </tr>\n",
       "    <tr>\n",
       "      <th>1</th>\n",
       "      <td>1000158</td>\n",
       "      <td>48.845</td>\n",
       "      <td>96.175</td>\n",
       "      <td>3.0</td>\n",
       "      <td>5.0</td>\n",
       "    </tr>\n",
       "    <tr>\n",
       "      <th>2</th>\n",
       "      <td>1000251</td>\n",
       "      <td>23.656</td>\n",
       "      <td>36.673</td>\n",
       "      <td>0.0</td>\n",
       "      <td>0.0</td>\n",
       "    </tr>\n",
       "    <tr>\n",
       "      <th>3</th>\n",
       "      <td>1000279</td>\n",
       "      <td>25.344</td>\n",
       "      <td>51.384</td>\n",
       "      <td>0.0</td>\n",
       "      <td>1.0</td>\n",
       "    </tr>\n",
       "    <tr>\n",
       "      <th>4</th>\n",
       "      <td>1000295</td>\n",
       "      <td>33.183</td>\n",
       "      <td>52.936</td>\n",
       "      <td>0.0</td>\n",
       "      <td>0.0</td>\n",
       "    </tr>\n",
       "    <tr>\n",
       "      <th>...</th>\n",
       "      <td>...</td>\n",
       "      <td>...</td>\n",
       "      <td>...</td>\n",
       "      <td>...</td>\n",
       "      <td>...</td>\n",
       "    </tr>\n",
       "    <tr>\n",
       "      <th>104009</th>\n",
       "      <td>6024594</td>\n",
       "      <td>48.132</td>\n",
       "      <td>59.984</td>\n",
       "      <td>3.0</td>\n",
       "      <td>0.0</td>\n",
       "    </tr>\n",
       "    <tr>\n",
       "      <th>104010</th>\n",
       "      <td>6024683</td>\n",
       "      <td>53.382</td>\n",
       "      <td>57.337</td>\n",
       "      <td>5.0</td>\n",
       "      <td>0.0</td>\n",
       "    </tr>\n",
       "    <tr>\n",
       "      <th>104011</th>\n",
       "      <td>6024781</td>\n",
       "      <td>24.867</td>\n",
       "      <td>44.819</td>\n",
       "      <td>0.0</td>\n",
       "      <td>0.0</td>\n",
       "    </tr>\n",
       "    <tr>\n",
       "      <th>104012</th>\n",
       "      <td>6024822</td>\n",
       "      <td>47.510</td>\n",
       "      <td>71.331</td>\n",
       "      <td>0.0</td>\n",
       "      <td>0.0</td>\n",
       "    </tr>\n",
       "    <tr>\n",
       "      <th>104013</th>\n",
       "      <td>6024933</td>\n",
       "      <td>35.039</td>\n",
       "      <td>62.704</td>\n",
       "      <td>0.0</td>\n",
       "      <td>0.0</td>\n",
       "    </tr>\n",
       "  </tbody>\n",
       "</table>\n",
       "<p>104014 rows × 5 columns</p>\n",
       "</div>"
      ],
      "text/plain": [
       "        subject_id  Total time (numeric trail)  \\\n",
       "0          1000085                      43.202   \n",
       "1          1000158                      48.845   \n",
       "2          1000251                      23.656   \n",
       "3          1000279                      25.344   \n",
       "4          1000295                      33.183   \n",
       "...            ...                         ...   \n",
       "104009     6024594                      48.132   \n",
       "104010     6024683                      53.382   \n",
       "104011     6024781                      24.867   \n",
       "104012     6024822                      47.510   \n",
       "104013     6024933                      35.039   \n",
       "\n",
       "        Total time (alphanumeric trail)  Total error (numeric path)  \\\n",
       "0                                64.591                         0.0   \n",
       "1                                96.175                         3.0   \n",
       "2                                36.673                         0.0   \n",
       "3                                51.384                         0.0   \n",
       "4                                52.936                         0.0   \n",
       "...                                 ...                         ...   \n",
       "104009                           59.984                         3.0   \n",
       "104010                           57.337                         5.0   \n",
       "104011                           44.819                         0.0   \n",
       "104012                           71.331                         0.0   \n",
       "104013                           62.704                         0.0   \n",
       "\n",
       "        Total error (alphanumeric path)  \n",
       "0                                   0.0  \n",
       "1                                   5.0  \n",
       "2                                   0.0  \n",
       "3                                   1.0  \n",
       "4                                   0.0  \n",
       "...                                 ...  \n",
       "104009                              0.0  \n",
       "104010                              0.0  \n",
       "104011                              0.0  \n",
       "104012                              0.0  \n",
       "104013                              0.0  \n",
       "\n",
       "[104014 rows x 5 columns]"
      ]
     },
     "execution_count": 3,
     "metadata": {},
     "output_type": "execute_result"
    }
   ],
   "source": [
    "renamed_tm = data.rename(columns=name_data)\n",
    "renamed_tm"
   ]
  },
  {
   "cell_type": "code",
   "execution_count": 4,
   "metadata": {},
   "outputs": [],
   "source": [
    "# renamed_tm.to_csv('../processed_data/trail_making.csv', index=False)"
   ]
  },
  {
   "cell_type": "code",
   "execution_count": 9,
   "metadata": {},
   "outputs": [
    {
     "data": {
      "text/plain": [
       "Text(0.5, 1.0, 'Total time distribution for numeric and alphanumeric trail')"
      ]
     },
     "execution_count": 9,
     "metadata": {},
     "output_type": "execute_result"
    },
    {
     "data": {
      "image/png": "[encoded data removed]",
      "text/plain": [
       "<Figure size 640x480 with 1 Axes>"
      ]
     },
     "metadata": {},
     "output_type": "display_data"
    }
   ],
   "source": [
    "renamed_tm[['Total time (numeric trail)', 'Total time (alphanumeric trail)']].plot.box()\n",
    "plt.title('Total time distribution for numeric and alphanumeric trail')"
   ]
  },
  {
   "cell_type": "code",
   "execution_count": 10,
   "metadata": {},
   "outputs": [
    {
     "data": {
      "text/html": [
       "<div>\n",
       "<style scoped>\n",
       "    .dataframe tbody tr th:only-of-type {\n",
       "        vertical-align: middle;\n",
       "    }\n",
       "\n",
       "    .dataframe tbody tr th {\n",
       "        vertical-align: top;\n",
       "    }\n",
       "\n",
       "    .dataframe thead th {\n",
       "        text-align: right;\n",
       "    }\n",
       "</style>\n",
       "<table border=\"1\" class=\"dataframe\">\n",
       "  <thead>\n",
       "    <tr style=\"text-align: right;\">\n",
       "      <th></th>\n",
       "      <th>Total time (numeric trail)</th>\n",
       "      <th>Total time (alphanumeric trail)</th>\n",
       "    </tr>\n",
       "  </thead>\n",
       "  <tbody>\n",
       "    <tr>\n",
       "      <th>count</th>\n",
       "      <td>104014.000000</td>\n",
       "      <td>104014.000000</td>\n",
       "    </tr>\n",
       "    <tr>\n",
       "      <th>mean</th>\n",
       "      <td>39.193717</td>\n",
       "      <td>66.803595</td>\n",
       "    </tr>\n",
       "    <tr>\n",
       "      <th>std</th>\n",
       "      <td>14.998772</td>\n",
       "      <td>25.755399</td>\n",
       "    </tr>\n",
       "    <tr>\n",
       "      <th>min</th>\n",
       "      <td>13.666000</td>\n",
       "      <td>0.000000</td>\n",
       "    </tr>\n",
       "    <tr>\n",
       "      <th>25%</th>\n",
       "      <td>29.216000</td>\n",
       "      <td>49.584000</td>\n",
       "    </tr>\n",
       "    <tr>\n",
       "      <th>50%</th>\n",
       "      <td>35.693500</td>\n",
       "      <td>61.182500</td>\n",
       "    </tr>\n",
       "    <tr>\n",
       "      <th>75%</th>\n",
       "      <td>45.079000</td>\n",
       "      <td>77.350500</td>\n",
       "    </tr>\n",
       "    <tr>\n",
       "      <th>max</th>\n",
       "      <td>733.970000</td>\n",
       "      <td>746.531000</td>\n",
       "    </tr>\n",
       "  </tbody>\n",
       "</table>\n",
       "</div>"
      ],
      "text/plain": [
       "       Total time (numeric trail)  Total time (alphanumeric trail)\n",
       "count               104014.000000                    104014.000000\n",
       "mean                    39.193717                        66.803595\n",
       "std                     14.998772                        25.755399\n",
       "min                     13.666000                         0.000000\n",
       "25%                     29.216000                        49.584000\n",
       "50%                     35.693500                        61.182500\n",
       "75%                     45.079000                        77.350500\n",
       "max                    733.970000                       746.531000"
      ]
     },
     "execution_count": 10,
     "metadata": {},
     "output_type": "execute_result"
    }
   ],
   "source": [
    "renamed_tm[['Total time (numeric trail)', 'Total time (alphanumeric trail)']].describe()"
   ]
  },
  {
   "cell_type": "code",
   "execution_count": null,
   "metadata": {},
   "outputs": [],
   "source": []
  }
 ],
 "metadata": {
  "kernelspec": {
   "display_name": "Python 3.10.8 64-bit",
   "language": "python",
   "name": "python3"
  },
  "language_info": {
   "codemirror_mode": {
    "name": "ipython",
    "version": 3
   },
   "file_extension": ".py",
   "mimetype": "text/x-python",
   "name": "python",
   "nbconvert_exporter": "python",
   "pygments_lexer": "ipython3",
   "version": "3.10.8"
  },
  "orig_nbformat": 4,
  "vscode": {
   "interpreter": {
    "hash": "eda7e54fe21129b67f77862937907ee926f057597a3e2fa1e18ac955e40912b3"
   }
  }
 },
 "nbformat": 4,
 "nbformat_minor": 2
}
